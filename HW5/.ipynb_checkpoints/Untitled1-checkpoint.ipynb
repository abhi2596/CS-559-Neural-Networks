{
 "cells": [
  {
   "cell_type": "code",
   "execution_count": 1,
   "id": "e09ae760",
   "metadata": {},
   "outputs": [],
   "source": [
    "import os \n",
    "import shutil\n",
    "import glob\n",
    "import random\n",
    "import torch\n",
    "from torchvision import transforms\n",
    "from torch.utils.data import Dataset\n",
    "from torchvision import datasets\n",
    "import re\n",
    "from PIL import Image\n",
    "import numpy as np"
   ]
  },
  {
   "cell_type": "code",
   "execution_count": 6,
   "id": "fd9016ed",
   "metadata": {},
   "outputs": [],
   "source": [
    "random.seed(42)\n",
    "path = os.getcwd()\n",
    "# classes =  [\"Circle\", \"Square\", \"Octagon\",\"Heptagon\", \"Nonagon\", \"Star\", \"Hexagon\", \"Pentagon\", \"Triangle\"]\n",
    "\n",
    "# training_files = glob.glob(os.path.join(path,\"geometry_dataset\\training_images\\*.png\"))\n",
    "# test_files = glob.glob(os.path.join(path,\"geometry_dataset\\test_images\\*.png\"))\n",
    "\n",
    "# for training_file,test_file in zip(training_files,test_files):\n",
    "#     os.remove(training_file)\n",
    "#     os.remove(test_file)\n",
    "\n",
    "# for class_ in classes:\n",
    "#     image_location = os.path.join(path,\"geometry_dataset\\output\")\n",
    "#     image_location = os.path.join(image_location,class_ + \"*.png\")\n",
    "#     class_images = glob.glob(image_location)\n",
    "#     random.shuffle(class_images)\n",
    "#     for train_images in class_images[0:8000]:\n",
    "#         shutil.copy(train_images,\"geometry_dataset/training_images\")\n",
    "#     for test_images in class_images[8000:10000]:\n",
    "#         shutil.copy(test_images,\"geometry_dataset/test_images\")"
   ]
  },
  {
   "cell_type": "code",
   "execution_count": 7,
   "id": "f803c667",
   "metadata": {},
   "outputs": [],
   "source": [
    "class Geometry_dataset(Dataset):\n",
    "    def __init__(self,file_location):\n",
    "        self.len = os.listdir(file_location)\n",
    "        self.name = os.listdir(file_location)\n",
    "        self.location = file_location\n",
    "\n",
    "    def __len__(self):\n",
    "        return len(self.len)\n",
    "\n",
    "    def __getitem__(self,idx):\n",
    "        image_location = os.path.join(self.location,os.listdir(self.location)[idx])\n",
    "        classes = {\"circle\":0,\"square\":1,\"octagon\":2,\"heptagon\":3,\"nonagon\":4,\"star\":5,\"hexagon\":6,\"pentagon\":7,\n",
    "                   \"triangle\":8}\n",
    "        label = classes[re.match(\"^[a-zA-Z]+\",self.name[idx]).group(0).lower()]\n",
    "        image = Image.open(image_location)\n",
    "        image = np.array(image)\n",
    "        image = transforms.functional.to_tensor(image)\n",
    "        return image,label"
   ]
  },
  {
   "cell_type": "code",
   "execution_count": 8,
   "id": "56c939e1",
   "metadata": {},
   "outputs": [],
   "source": [
    "training_dataset = Geometry_dataset(os.path.join(path,\"geometry_dataset/training_images\"))\n",
    "test_dataset = Geometry_dataset(os.path.join(path,\"geometry_dataset/test_images\"))"
   ]
  },
  {
   "cell_type": "code",
   "execution_count": 13,
   "id": "9d4bf9c3",
   "metadata": {},
   "outputs": [
    {
     "data": {
      "text/plain": [
       "tensor([[0.8392, 0.8392, 0.8392,  ..., 0.8392, 0.8392, 0.8392],\n",
       "        [0.8392, 0.8392, 0.8392,  ..., 0.8392, 0.8392, 0.8392],\n",
       "        [0.8392, 0.8392, 0.8392,  ..., 0.8392, 0.8392, 0.8392],\n",
       "        ...,\n",
       "        [0.8392, 0.8392, 0.8392,  ..., 0.8392, 0.8392, 0.8392],\n",
       "        [0.8392, 0.8392, 0.8392,  ..., 0.8392, 0.8392, 0.8392],\n",
       "        [0.8392, 0.8392, 0.8392,  ..., 0.8392, 0.8392, 0.8392]])"
      ]
     },
     "execution_count": 13,
     "metadata": {},
     "output_type": "execute_result"
    }
   ],
   "source": []
  },
  {
   "cell_type": "code",
   "execution_count": null,
   "id": "78fb636b",
   "metadata": {},
   "outputs": [],
   "source": []
  }
 ],
 "metadata": {
  "kernelspec": {
   "display_name": "Python 3 (ipykernel)",
   "language": "python",
   "name": "python3"
  },
  "language_info": {
   "codemirror_mode": {
    "name": "ipython",
    "version": 3
   },
   "file_extension": ".py",
   "mimetype": "text/x-python",
   "name": "python",
   "nbconvert_exporter": "python",
   "pygments_lexer": "ipython3",
   "version": "3.9.5"
  }
 },
 "nbformat": 4,
 "nbformat_minor": 5
}
