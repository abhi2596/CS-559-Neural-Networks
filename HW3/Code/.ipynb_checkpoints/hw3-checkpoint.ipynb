{
 "cells": [
  {
   "cell_type": "code",
   "execution_count": 2,
   "id": "5c1cfd36",
   "metadata": {},
   "outputs": [],
   "source": [
    "import gzip\n",
    "import numpy as np\n",
    "import os "
   ]
  },
  {
   "cell_type": "code",
   "execution_count": 17,
   "id": "b1967da9",
   "metadata": {},
   "outputs": [],
   "source": [
    "np.random.seed(42)"
   ]
  },
  {
   "cell_type": "code",
   "execution_count": 4,
   "id": "36f9b4cd",
   "metadata": {},
   "outputs": [],
   "source": [
    "# code taken from https://stackoverflow.com/questions/40427435/extract-images-from-idx3-ubyte-file-or-gzip-via-python\n",
    "def training_images():\n",
    "    with gzip.open(os.path.join(os.path.dirname(os.getcwd()),'dataset/train-images-idx3-ubyte.gz'),'r') as f:\n",
    "        # first 4 bytes is a magic number\n",
    "        magic_number = int.from_bytes(f.read(4), 'big')\n",
    "        # second 4 bytes is the number of images\n",
    "        image_count = int.from_bytes(f.read(4), 'big')\n",
    "        # third 4 bytes is the row count\n",
    "        row_count = int.from_bytes(f.read(4), 'big')\n",
    "        # fourth 4 bytes is the column count\n",
    "        column_count = int.from_bytes(f.read(4), 'big')\n",
    "        # rest is the image pixel data, each pixel is stored as an unsigned byte\n",
    "        # pixel values are 0 to 255\n",
    "        image_data = f.read()\n",
    "        images = np.frombuffer(image_data, dtype=np.uint8)\\\n",
    "            .reshape((image_count, row_count, column_count))\n",
    "        return images\n",
    "\n",
    "\n",
    "def training_labels():\n",
    "    with gzip.open(os.path.join(os.path.dirname(os.getcwd()),'dataset/train-labels-idx1-ubyte.gz'),'r') as f:\n",
    "        # first 4 bytes is a magic number\n",
    "        magic_number = int.from_bytes(f.read(4), 'big')\n",
    "        # second 4 bytes is the number of labels\n",
    "        label_count = int.from_bytes(f.read(4), 'big')\n",
    "        # rest is the label data, each label is stored as unsigned byte\n",
    "        # label values are 0 to 9\n",
    "        label_data = f.read()\n",
    "        labels = np.frombuffer(label_data, dtype=np.uint8)\n",
    "        return labels"
   ]
  },
  {
   "cell_type": "code",
   "execution_count": 5,
   "id": "14c96dc1",
   "metadata": {},
   "outputs": [],
   "source": [
    "# code taken from https://stackoverflow.com/questions/40427435/extract-images-from-idx3-ubyte-file-or-gzip-via-python\n",
    "def test_images():\n",
    "    with gzip.open(os.path.join(os.path.dirname(os.getcwd()),'dataset/t10k-images-idx3-ubyte.gz'),'r') as f:\n",
    "        # first 4 bytes is a magic number\n",
    "        magic_number = int.from_bytes(f.read(4), 'big')\n",
    "        # second 4 bytes is the number of images\n",
    "        image_count = int.from_bytes(f.read(4), 'big')\n",
    "        # third 4 bytes is the row count\n",
    "        row_count = int.from_bytes(f.read(4), 'big')\n",
    "        # fourth 4 bytes is the column count\n",
    "        column_count = int.from_bytes(f.read(4), 'big')\n",
    "        # rest is the image pixel data, each pixel is stored as an unsigned byte\n",
    "        # pixel values are 0 to 255\n",
    "        image_data = f.read()\n",
    "        images = np.frombuffer(image_data, dtype=np.uint8)\\\n",
    "            .reshape((image_count, row_count, column_count))\n",
    "        return images\n",
    "\n",
    "\n",
    "def test_labels():\n",
    "    with gzip.open(os.path.join(os.path.dirname(os.getcwd()),'dataset/t10k-labels-idx1-ubyte.gz'),'r') as f:\n",
    "        # first 4 bytes is a magic number\n",
    "        magic_number = int.from_bytes(f.read(4), 'big')\n",
    "        # second 4 bytes is the number of labels\n",
    "        label_count = int.from_bytes(f.read(4), 'big')\n",
    "        # rest is the label data, each label is stored as unsigned byte\n",
    "        # label values are 0 to 9\n",
    "        label_data = f.read()\n",
    "        labels = np.frombuffer(label_data, dtype=np.uint8)\n",
    "        return labels"
   ]
  },
  {
   "cell_type": "code",
   "execution_count": 6,
   "id": "76d8629f",
   "metadata": {},
   "outputs": [],
   "source": [
    "training_images = training_images()\n",
    "training_labels = training_labels()\n",
    "test_images = test_images()\n",
    "test_labels = test_labels()"
   ]
  },
  {
   "cell_type": "code",
   "execution_count": 7,
   "id": "eaac8480",
   "metadata": {},
   "outputs": [
    {
     "data": {
      "text/plain": [
       "(60000, 28, 28)"
      ]
     },
     "execution_count": 7,
     "metadata": {},
     "output_type": "execute_result"
    }
   ],
   "source": [
    "training_images[:60000].shape"
   ]
  },
  {
   "cell_type": "code",
   "execution_count": 34,
   "id": "e9a054dc",
   "metadata": {},
   "outputs": [],
   "source": [
    "lr = 1\n",
    "e = 0\n",
    "n = 60000\n",
    "W = np.random.uniform(low=-1,high=1,size=(10,784))\n",
    "training_images_full = training_images[:n]\n",
    "misclassification_per_epoch = []\n",
    "epochs = []\n",
    "while epoch<=300:\n",
    "    errors = 0\n",
    "    for image, label in zip(training_images, training_labels):\n",
    "        image = image.reshape(784, 1)\n",
    "        v = np.matmul(W, image)\n",
    "        predicted_label = np.argmax(v)\n",
    "        if predicted_label != label:\n",
    "            errors += 1\n",
    "    misclassification_per_epoch.append(errors)\n",
    "    epochs.append(epoch)\n",
    "    errors = 0\n",
    "    epoch += 1\n",
    "    for image,label in zip(training_images_full,training_labels):\n",
    "        image = image.reshape(784,1)\n",
    "        v = np.matmul(W,image)\n",
    "        predicted_label = np.argmax(v)\n",
    "        if predicted_label != label:\n",
    "            errors+=1\n",
    "            d = np.zeros((10,1))\n",
    "            d[label] = 1\n",
    "            u_wx = np.heaviside(v,0).reshape(10,1)\n",
    "            W = W + lr*np.matmul((d-u_wx),np.transpose(image))\n",
    "    misclassification_per_epoch.append(errors)\n",
    "    epochs.append(epoch)\n",
    "    if errors/n <= e:\n",
    "        print(\"Epoch:\",epoch)\n",
    "        print(\"Errors:\",errors)\n",
    "        break"
   ]
  },
  {
   "cell_type": "code",
   "execution_count": 37,
   "id": "8aafc4d5",
   "metadata": {},
   "outputs": [
    {
     "data": {
      "text/plain": [
       "Text(0.5, 1.0, 'Epoch vs Misclassification error when trained with 60000 images')"
      ]
     },
     "execution_count": 37,
     "metadata": {},
     "output_type": "execute_result"
    },
    {
     "data": {
      "image/png": "[encoded data removed]",
      "text/plain": [
       "<Figure size 432x288 with 1 Axes>"
      ]
     },
     "metadata": {
      "needs_background": "light"
     },
     "output_type": "display_data"
    }
   ],
   "source": [
    "import matplotlib.pyplot as plt\n",
    "plt.plot(epochs, misclassification_per_epoch)\n",
    "plt.xlabel(\"Epochs\")\n",
    "plt.ylabel(\"Misclassification_error\")\n",
    "plt.title(\"Epoch vs Misclassification error when trained with \" + str(60000) + \" images\")"
   ]
  },
  {
   "cell_type": "code",
   "execution_count": 55,
   "id": "e748c831",
   "metadata": {},
   "outputs": [
    {
     "name": "stdout",
     "output_type": "stream",
     "text": [
      "1537\n"
     ]
    }
   ],
   "source": [
    "errors = 0\n",
    "for image,label in zip(test_images,test_labels):\n",
    "        image = image.reshape(784,1)\n",
    "        v = np.matmul(W,image)\n",
    "        predicted_label = np.argmax(v)\n",
    "        if predicted_label != label:\n",
    "            errors+=1\n",
    "print(errors)"
   ]
  },
  {
   "cell_type": "code",
   "execution_count": 30,
   "id": "6d0041ee",
   "metadata": {},
   "outputs": [
    {
     "name": "stdout",
     "output_type": "stream",
     "text": [
      "Epoch: 5\n",
      "Errors: 0\n"
     ]
    }
   ],
   "source": [
    "lr = 1\n",
    "epoch = 0\n",
    "e = 0\n",
    "n = 50\n",
    "W = np.random.uniform(low=-1,high=1,size=(10,784))\n",
    "training_images_50 = training_images[:n]\n",
    "while True:\n",
    "    errors = 0\n",
    "    epoch += 1\n",
    "    for image,label in zip(training_images_50,training_labels):\n",
    "        image = image.reshape(784,1)\n",
    "        v = np.matmul(W,image)\n",
    "        predicted_label = np.argmax(v)\n",
    "        if predicted_label != label:\n",
    "            errors+=1\n",
    "            d = np.zeros((10,1))\n",
    "            d[label] = 1\n",
    "            u_wx = np.heaviside(v,0).reshape(10,1)\n",
    "            W = W + lr*np.matmul((d-u_wx),np.transpose(image))\n",
    "    if errors/n <= e:\n",
    "        print(\"Epoch:\",epoch)\n",
    "        print(\"Errors:\",errors)\n",
    "        break"
   ]
  },
  {
   "cell_type": "code",
   "execution_count": 57,
   "id": "d9bb75c9",
   "metadata": {},
   "outputs": [
    {
     "name": "stdout",
     "output_type": "stream",
     "text": [
      "4389\n"
     ]
    }
   ],
   "source": [
    "errors = 0\n",
    "for image,label in zip(test_images,test_labels):\n",
    "        image = image.reshape(784,1)\n",
    "        v = np.matmul(W,image)\n",
    "        predicted_label = np.argmax(v)\n",
    "        if predicted_label != label:\n",
    "            errors+=1\n",
    "print(errors)"
   ]
  },
  {
   "cell_type": "code",
   "execution_count": 33,
   "id": "9405baed",
   "metadata": {},
   "outputs": [
    {
     "name": "stdout",
     "output_type": "stream",
     "text": [
      "Epoch: 33\n",
      "Errors: 0\n"
     ]
    }
   ],
   "source": [
    "lr = 1\n",
    "epoch = 0\n",
    "e = 0\n",
    "n = 1000\n",
    "W = np.random.uniform(low=-1,high=1,size=(10,784))\n",
    "training_images_1000 = training_images[:n]\n",
    "while True:\n",
    "    errors = 0\n",
    "    epoch += 1\n",
    "    for image,label in zip(training_images_1000,training_labels):\n",
    "        image = image.reshape(784,1)\n",
    "        v = np.matmul(W,image)\n",
    "        predicted_label = np.argmax(v)\n",
    "        if predicted_label != label:\n",
    "            errors+=1\n",
    "            d = np.zeros((10,1))\n",
    "            d[label] = 1\n",
    "            u_wx = np.heaviside(v,0).reshape(10,1)\n",
    "            W = W + lr*np.matmul((d-u_wx),np.transpose(image))\n",
    "    if errors/n <= e:\n",
    "        print(\"Epoch:\",epoch)\n",
    "        print(\"Errors:\",errors)\n",
    "        break"
   ]
  },
  {
   "cell_type": "code",
   "execution_count": 59,
   "id": "55b53581",
   "metadata": {},
   "outputs": [
    {
     "name": "stdout",
     "output_type": "stream",
     "text": [
      "1808\n"
     ]
    }
   ],
   "source": [
    "errors = 0\n",
    "for image,label in zip(test_images,test_labels):\n",
    "        image = image.reshape(784,1)\n",
    "        v = np.matmul(W,image)\n",
    "        predicted_label = np.argmax(v)\n",
    "        if predicted_label != label:\n",
    "            errors+=1\n",
    "print(errors)"
   ]
  },
  {
   "cell_type": "code",
   "execution_count": 22,
   "id": "844ea095",
   "metadata": {},
   "outputs": [
    {
     "data": {
      "text/plain": [
       "array([[ 0.82404001,  0.06956345, -0.39975014, ...,  0.62072575,\n",
       "        -0.44179041,  0.49747742],\n",
       "       [ 0.66484171, -0.51736553,  0.98498935, ..., -0.08325162,\n",
       "         0.77049149, -0.62320935],\n",
       "       [ 0.13731846,  0.92337199,  0.27423315, ...,  0.86783449,\n",
       "         0.74996468,  0.47310662],\n",
       "       ...,\n",
       "       [ 0.96060876,  0.33293219,  0.80362435, ...,  0.11121905,\n",
       "        -0.51358981,  0.47495589],\n",
       "       [ 0.76373172, -0.57823129, -0.67864476, ...,  0.30237585,\n",
       "        -0.97223268,  0.24272067],\n",
       "       [ 0.30506381, -0.68378484, -0.13785163, ..., -0.72124363,\n",
       "        -0.41865101,  0.95250757]])"
      ]
     },
     "execution_count": 22,
     "metadata": {},
     "output_type": "execute_result"
    }
   ],
   "source": [
    "W = np.random.uniform(low=-1,high=1,size=(10,784))\n",
    "W"
   ]
  },
  {
   "cell_type": "code",
   "execution_count": 23,
   "id": "2d04448c",
   "metadata": {},
   "outputs": [
    {
     "data": {
      "text/plain": [
       "array([[ 0.9313443 ,  0.65532668, -0.5349879 , ..., -0.78939313,\n",
       "         0.36079306, -0.98421555],\n",
       "       [-0.97051675,  0.55375965, -0.85112935, ..., -0.02066402,\n",
       "         0.23010773,  0.65728008],\n",
       "       [ 0.31589541, -0.26910477, -0.1642391 , ..., -0.30198803,\n",
       "        -0.31568689,  0.28657587],\n",
       "       ...,\n",
       "       [ 0.44519948, -0.26626311, -0.38067904, ...,  0.27831499,\n",
       "         0.83944478,  0.82245207],\n",
       "       [-0.87317864,  0.91001865, -0.89764408, ...,  0.7246975 ,\n",
       "        -0.68009684, -0.23867347],\n",
       "       [-0.77396763, -0.56894538, -0.21090499, ...,  0.24395925,\n",
       "        -0.32345274, -0.26783402]])"
      ]
     },
     "execution_count": 23,
     "metadata": {},
     "output_type": "execute_result"
    }
   ],
   "source": [
    "W = np.random.uniform(low=-1,high=1,size=(10,784))\n",
    "W"
   ]
  },
  {
   "cell_type": "code",
   "execution_count": null,
   "id": "833dc9fc",
   "metadata": {},
   "outputs": [],
   "source": []
  }
 ],
 "metadata": {
  "kernelspec": {
   "display_name": "Python 3 (ipykernel)",
   "language": "python",
   "name": "python3"
  },
  "language_info": {
   "codemirror_mode": {
    "name": "ipython",
    "version": 3
   },
   "file_extension": ".py",
   "mimetype": "text/x-python",
   "name": "python",
   "nbconvert_exporter": "python",
   "pygments_lexer": "ipython3",
   "version": "3.9.5"
  }
 },
 "nbformat": 4,
 "nbformat_minor": 5
}
