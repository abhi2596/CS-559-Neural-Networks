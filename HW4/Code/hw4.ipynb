{
 "cells": [
  {
   "cell_type": "code",
   "execution_count": 1,
   "id": "15cf655c",
   "metadata": {},
   "outputs": [],
   "source": [
    "import numpy as np\n",
    "import matplotlib.pyplot as plt"
   ]
  },
  {
   "cell_type": "code",
   "execution_count": 2,
   "id": "94c5c7d6",
   "metadata": {},
   "outputs": [],
   "source": [
    "np.random.seed(42)"
   ]
  },
  {
   "cell_type": "code",
   "execution_count": 3,
   "id": "5e7e09ed",
   "metadata": {},
   "outputs": [],
   "source": [
    "x = np.random.rand(300)\n",
    "v = np.random.uniform(low=-0.1,high=0.1,size=(300))\n",
    "d = np.sin(20*x)+3*x+v"
   ]
  },
  {
   "cell_type": "code",
   "execution_count": 4,
   "id": "2a63fba0",
   "metadata": {},
   "outputs": [
    {
     "data": {
      "image/png": "[encoded data removed]",
      "text/plain": [
       "<Figure size 432x288 with 1 Axes>"
      ]
     },
     "metadata": {
      "needs_background": "light"
     },
     "output_type": "display_data"
    }
   ],
   "source": [
    "plt.scatter(x,d)\n",
    "plt.xlabel(\"x_i\")\n",
    "plt.ylabel(\"d_i\")\n",
    "plt.show()"
   ]
  },
  {
   "cell_type": "code",
   "execution_count": 5,
   "id": "8125ecf8",
   "metadata": {},
   "outputs": [],
   "source": [
    "class Neural_Network():\n",
    "    def __init__(self,lr):\n",
    "        np.random.seed(42)\n",
    "        self.w_h = np.random.randn(24)\n",
    "        self.w_o = np.random.randn(24)\n",
    "        self.b_h = np.random.randn(24)\n",
    "        self.b_o = np.random.randn(1)\n",
    "        self.lr = lr\n",
    "        self.dwo,self.dwh,self.dbh,self.dbo = np.zeros(24),np.zeros(24),np.zeros(24),np.zeros(1)\n",
    "    \n",
    "    def forward(self,x):\n",
    "        a = self.w_h * x + self.b_h\n",
    "        h = np.tanh(self.w_h * x + self.b_h)\n",
    "        o = np.sum(self.w_o * h) + self.b_o\n",
    "        return o,h,a\n",
    "    \n",
    "    def backward(self,o,h,a,x,y):\n",
    "        self.dwo += -1 * (o-y) * h\n",
    "        self.dwh += -1 * (o-y) * self.w_o * (1 - (np.tanh(a))**2) * x\n",
    "        self.dbo += -1 * (o-y)\n",
    "        self.dbh += -1 * (o-y) * self.w_o * (1 - (np.tanh(a))**2)\n",
    "    \n",
    "    def zero_grad(self):\n",
    "        self.dwo,self.dwh,self.dbh,self.dbo = np.zeros(24),np.zeros(24),np.zeros(24),np.zeros(1)\n",
    "    \n",
    "    def weight_updates(self):\n",
    "        self.w_o = self.w_o + self.lr * (self.dwo)\n",
    "        self.w_h = self.w_h + self.lr * (self.dwh)\n",
    "        self.b_o = self.b_o + self.lr * (self.dbo)\n",
    "        self.b_h = self.b_h + self.lr * (self.dbh)\n",
    "    \n",
    "    def update_lr(self):\n",
    "        self.lr/=10"
   ]
  },
  {
   "cell_type": "code",
   "execution_count": 6,
   "id": "3799629e",
   "metadata": {},
   "outputs": [],
   "source": [
    "def square_loss(x,y):\n",
    "    return 1/2 * ((x-y)**2)\n",
    "\n",
    "def train_loop(model,data,target,loss_fn):\n",
    "    o,h,a = model.forward(data)\n",
    "    model.backward(o,h,a,data,target)\n",
    "    loss = square_loss(o,target)[0]\n",
    "    model.weight_updates()\n",
    "    model.zero_grad()\n",
    "    return loss"
   ]
  },
  {
   "cell_type": "code",
   "execution_count": 7,
   "id": "2ff045c4",
   "metadata": {},
   "outputs": [
    {
     "data": {
      "text/plain": [
       "0.002583088101414392"
      ]
     },
     "execution_count": 7,
     "metadata": {},
     "output_type": "execute_result"
    }
   ],
   "source": [
    "epochs = 10000\n",
    "model = Neural_Network(lr=0.01)\n",
    "for epoch in range(0,epochs):\n",
    "    loss_per_epoch = 0\n",
    "    for i in range(0,300):\n",
    "        loss = train_loop(model,x[i],d[i],square_loss)\n",
    "        loss_per_epoch += loss\n",
    "    loss_per_epoch/=300\n",
    "    if epoch!=0:\n",
    "        if loss_previous_epoch == loss_per_epoch:\n",
    "            model.update_lr()\n",
    "    loss_previous_epoch = loss_per_epoch\n",
    "    if loss_per_epoch==0:\n",
    "        print(\"converged\")\n",
    "        print(\"Epochs:\",epoch+1)\n",
    "        break\n",
    "loss_per_epoch"
   ]
  },
  {
   "cell_type": "code",
   "execution_count": 8,
   "id": "8cede952",
   "metadata": {},
   "outputs": [
    {
     "data": {
      "text/plain": [
       "0.01"
      ]
     },
     "execution_count": 8,
     "metadata": {},
     "output_type": "execute_result"
    }
   ],
   "source": [
    "model.lr"
   ]
  },
  {
   "cell_type": "code",
   "execution_count": 18,
   "id": "978177ec",
   "metadata": {},
   "outputs": [
    {
     "data": {
      "image/png": "[encoded data removed]",
      "text/plain": [
       "<Figure size 432x288 with 1 Axes>"
      ]
     },
     "metadata": {
      "needs_background": "light"
     },
     "output_type": "display_data"
    }
   ],
   "source": [
    "fig, ax = plt.subplots()\n",
    "for i in x:\n",
    "    o = model.forward(i)[0][0]\n",
    "    blue = ax.scatter(i,o,color=\"blue\")\n",
    "red = ax.scatter(x,d,color=\"red\")\n",
    "blue.set_label(\"predicted\")\n",
    "red.set_label(\"true\")\n",
    "plt.legend()\n",
    "plt.show()"
   ]
  },
  {
   "cell_type": "code",
   "execution_count": null,
   "id": "c5687904",
   "metadata": {},
   "outputs": [],
   "source": []
  }
 ],
 "metadata": {
  "kernelspec": {
   "display_name": "Python 3 (ipykernel)",
   "language": "python",
   "name": "python3"
  },
  "language_info": {
   "codemirror_mode": {
    "name": "ipython",
    "version": 3
   },
   "file_extension": ".py",
   "mimetype": "text/x-python",
   "name": "python",
   "nbconvert_exporter": "python",
   "pygments_lexer": "ipython3",
   "version": "3.9.5"
  }
 },
 "nbformat": 4,
 "nbformat_minor": 5
}
